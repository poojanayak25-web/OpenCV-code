{
 "cells": [
  {
   "cell_type": "markdown",
   "id": "b0604e0e-75e6-4959-ad38-d1061131f94f",
   "metadata": {},
   "source": [
    "## Car & Pedestrian Detection\n",
    "\n"
   ]
  },
  {
   "cell_type": "markdown",
   "id": "e3149f26-155d-4883-ab0a-5cc9a1594ec0",
   "metadata": {},
   "source": [
    "### Pedistrian Detection"
   ]
  },
  {
   "cell_type": "code",
   "execution_count": null,
   "id": "73abeca9-1544-4a66-a762-7027df6bbb80",
   "metadata": {},
   "outputs": [],
   "source": [
    "import cv2\n",
    "import numpy as np\n",
    "\n",
    "# Create our body classifier\n",
    "body_classifier=cv2.CascadeClassifier(r\"C:\\Users\\suraj\\OneDrive\\Documents\\My work\\Haarcascades\\haarcascade_fullbody.xml\")\n",
    "\n",
    "# Initiate video capture for video file\n",
    "cap=cv2.VideoCapture(r\"C:\\Users\\suraj\\OneDrive\\Documents\\My work\\pedestrian walking.mp4\")\n",
    "\n",
    "# Loop once video is successfully loaded\n",
    "while cap.isOpened():\n",
    "    # Read first frame\n",
    "    ret,frame=cap.read()\n",
    "    #frame = cv2.resize(frame, None,fx=0.5, fy=0.5, interpolation = cv2.INTER_LINEAR)\n",
    "    gray=cv2.cvtColor(frame,cv2.COLOR_BGR2GRAY)\n",
    "    # Pass frame to our body classifier\n",
    "    bodies=body_classifier.detectMultiScale(gray,1.2,3)\n",
    "    # Extract bounding boxes for any bodies identified\n",
    "    for (x,y,w,h) in bodies:\n",
    "        cv2.rectangle(frame,(x,y),(x+w,y+h),(0,255,255),2)\n",
    "        cv2.imshow('pedestrian',frame)\n",
    "    if cv2.waitKey(1)==13:\n",
    "        break\n",
    "\n",
    "cap.release()\n",
    "cv2.destroyAllWindows()\n",
    "        \n",
    "\n",
    "    "
   ]
  },
  {
   "cell_type": "markdown",
   "id": "88992887-be36-45f2-aada-a31733213f18",
   "metadata": {},
   "source": [
    "### Car Detection\n"
   ]
  },
  {
   "cell_type": "code",
   "execution_count": null,
   "id": "34a35157-0771-43a6-b453-5c34473cef36",
   "metadata": {},
   "outputs": [],
   "source": [
    "import cv2\n",
    "import time\n",
    "import numpy as np\n",
    "\n",
    "#create our body classifier\n",
    "car_classifier=cv2.CascadeClassifier(r'C:\\Users\\suraj\\OneDrive\\Documents\\My work\\Haarcascades\\haarcascade_car.xml')\n",
    "\n",
    "#initiate video capture for video file\n",
    "cap=cv2.VideoCapture(r\"C:\\Users\\suraj\\OneDrive\\Documents\\My work\\cars.mp4\")\n",
    "\n",
    "# Loop once video is successfully loaded\n",
    "while cap.isOpened():\n",
    "    time.sleep(.05)\n",
    "    #read first frame\n",
    "    ret,frame=cap.read()\n",
    "    gray=cv2.cvtColor(frame, cv2.COLOR_BGR2GRAY)\n",
    "    #pass frame to our car classifier\n",
    "    cars=car_classifier.detectMultiScale(gray,1.4,2)\n",
    "    ##extract boundings boxes for any bodies identified\n",
    "    for (x,y,w,h) in cars:\n",
    "        cv2.rectangle(frame,(x,y),(x+w,y+h),(0,255,255),2)\n",
    "        cv2.imshow('Cars',frame)\n",
    "    if cv2.waitKey(1)==13:\n",
    "        break\n",
    "cap.release()\n",
    "cv2.destroyAllWindows()\n",
    "    "
   ]
  },
  {
   "cell_type": "code",
   "execution_count": null,
   "id": "af17c36b-3d97-4535-a2c5-8362aecb7c7d",
   "metadata": {},
   "outputs": [],
   "source": []
  },
  {
   "cell_type": "code",
   "execution_count": null,
   "id": "0ff6c7ff-37a3-483a-8e46-f8eea6f0f4bd",
   "metadata": {},
   "outputs": [],
   "source": []
  },
  {
   "cell_type": "code",
   "execution_count": null,
   "id": "f610389c-a604-451f-9198-8ef4ca3faa29",
   "metadata": {},
   "outputs": [],
   "source": []
  },
  {
   "cell_type": "code",
   "execution_count": null,
   "id": "33fe42c4-336f-42d8-a6d8-058f28bcc6b5",
   "metadata": {},
   "outputs": [],
   "source": []
  },
  {
   "cell_type": "code",
   "execution_count": null,
   "id": "5cd0632c-8d2f-4104-a4a9-7abdf2b82191",
   "metadata": {},
   "outputs": [],
   "source": []
  },
  {
   "cell_type": "code",
   "execution_count": null,
   "id": "7c280283-5888-471b-8bcf-5fd37e0e8bd1",
   "metadata": {},
   "outputs": [],
   "source": []
  },
  {
   "cell_type": "code",
   "execution_count": null,
   "id": "ac75f05f-9c01-4ce4-a644-b3b0cb954e30",
   "metadata": {},
   "outputs": [],
   "source": []
  },
  {
   "cell_type": "code",
   "execution_count": null,
   "id": "3da1e573-afe9-43eb-85be-7660bdff5176",
   "metadata": {},
   "outputs": [],
   "source": []
  },
  {
   "cell_type": "code",
   "execution_count": null,
   "id": "b30f1970-5574-4183-bb42-11870b36ca57",
   "metadata": {},
   "outputs": [],
   "source": []
  },
  {
   "cell_type": "code",
   "execution_count": null,
   "id": "ba0838b3-2604-4a17-88b4-b77a956f7a01",
   "metadata": {},
   "outputs": [],
   "source": []
  },
  {
   "cell_type": "code",
   "execution_count": null,
   "id": "352d6c48-22ed-4cfd-a2d6-5e6c45975d76",
   "metadata": {},
   "outputs": [],
   "source": []
  }
 ],
 "metadata": {
  "kernelspec": {
   "display_name": "Python 3 (ipykernel)",
   "language": "python",
   "name": "python3"
  },
  "language_info": {
   "codemirror_mode": {
    "name": "ipython",
    "version": 3
   },
   "file_extension": ".py",
   "mimetype": "text/x-python",
   "name": "python",
   "nbconvert_exporter": "python",
   "pygments_lexer": "ipython3",
   "version": "3.11.7"
  },
  "widgets": {
   "application/vnd.jupyter.widget-state+json": {
    "state": {},
    "version_major": 2,
    "version_minor": 0
   }
  }
 },
 "nbformat": 4,
 "nbformat_minor": 5
}
